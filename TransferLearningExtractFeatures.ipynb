{
  "nbformat": 4,
  "nbformat_minor": 0,
  "metadata": {
    "colab": {
      "provenance": [],
      "authorship_tag": "ABX9TyM67jXNrwdXyYzxSUL1ClBJ",
      "include_colab_link": true
    },
    "kernelspec": {
      "name": "python3",
      "display_name": "Python 3"
    },
    "language_info": {
      "name": "python"
    }
  },
  "cells": [
    {
      "cell_type": "markdown",
      "metadata": {
        "id": "view-in-github",
        "colab_type": "text"
      },
      "source": [
        "<a href=\"https://colab.research.google.com/github/novrian6/ML-transferlearning-extractfeatures/blob/main/TransferLearningExtractFeatures.ipynb\" target=\"_parent\"><img src=\"https://colab.research.google.com/assets/colab-badge.svg\" alt=\"Open In Colab\"/></a>"
      ]
    },
    {
      "cell_type": "code",
      "execution_count": null,
      "metadata": {
        "colab": {
          "base_uri": "https://localhost:8080/"
        },
        "id": "bEH_ewb-p7cH",
        "outputId": "e1a3c1a8-af5a-44c5-fdf4-786982cf6e5e"
      },
      "outputs": [
        {
          "output_type": "stream",
          "name": "stdout",
          "text": [
            "1/1 [==============================] - 1s 1s/step\n",
            "banana : 0.9960743188858032\n",
            "hook : 0.0008644396439194679\n",
            "lemon : 0.0007054408779367805\n",
            "spaghetti_squash : 0.0006094099371694028\n",
            "orange : 0.0005512064089998603\n"
          ]
        }
      ],
      "source": [
        "import numpy as np\n",
        "import tensorflow as tf\n",
        "from tensorflow.keras.applications.vgg16 import VGG16, decode_predictions, preprocess_input\n",
        "from tensorflow.keras.preprocessing import image\n",
        "\n",
        "# Load pre-trained model (VGG16 in this case)\n",
        "model = VGG16(weights='imagenet')\n",
        "\n",
        "# Load and preprocess an image\n",
        "img_path = 'Banana-Single.jpg'\n",
        "img = image.load_img(img_path, target_size=(224, 224))\n",
        "img_array = image.img_to_array(img)\n",
        "img_array = np.expand_dims(img_array, axis=0)\n",
        "img_array = preprocess_input(img_array)\n",
        "\n",
        "# Make predictions\n",
        "predictions = model.predict(img_array)\n",
        "decoded_predictions = decode_predictions(predictions)\n",
        "\n",
        "# Display top 5 predictions with class names and probabilities\n",
        "for prediction in decoded_predictions[0]:\n",
        "    print(f\"{prediction[1]} : {prediction[2]}\")\n"
      ]
    },
    {
      "cell_type": "code",
      "source": [
        "\n"
      ],
      "metadata": {
        "id": "qeiIcXeFrCos"
      },
      "execution_count": null,
      "outputs": []
    },
    {
      "cell_type": "code",
      "source": [
        "!wget   https://upload.wikimedia.org/wikipedia/commons/8/8a/Banana-Single.jpg"
      ],
      "metadata": {
        "colab": {
          "base_uri": "https://localhost:8080/"
        },
        "id": "DuCCsvpop8SZ",
        "outputId": "d30cbf1e-b560-4b00-dd49-90c6d15f288b"
      },
      "execution_count": null,
      "outputs": [
        {
          "output_type": "stream",
          "name": "stdout",
          "text": [
            "--2023-11-03 15:02:15--  https://upload.wikimedia.org/wikipedia/commons/8/8a/Banana-Single.jpg\n",
            "Resolving upload.wikimedia.org (upload.wikimedia.org)... 185.15.59.240, 2a02:ec80:300:ed1a::2:b\n",
            "Connecting to upload.wikimedia.org (upload.wikimedia.org)|185.15.59.240|:443... connected.\n",
            "HTTP request sent, awaiting response... 200 OK\n",
            "Length: 2085213 (2.0M) [image/jpeg]\n",
            "Saving to: ‘Banana-Single.jpg’\n",
            "\n",
            "\rBanana-Single.jpg     0%[                    ]       0  --.-KB/s               \rBanana-Single.jpg   100%[===================>]   1.99M  --.-KB/s    in 0.08s   \n",
            "\n",
            "2023-11-03 15:02:15 (26.0 MB/s) - ‘Banana-Single.jpg’ saved [2085213/2085213]\n",
            "\n"
          ]
        }
      ]
    },
    {
      "cell_type": "code",
      "source": [],
      "metadata": {
        "id": "HA-w3jaGqTmB"
      },
      "execution_count": null,
      "outputs": []
    },
    {
      "cell_type": "code",
      "source": [],
      "metadata": {
        "id": "dlM6F6jDy551"
      },
      "execution_count": null,
      "outputs": []
    },
    {
      "cell_type": "markdown",
      "source": [
        "#Extract Features Example\n"
      ],
      "metadata": {
        "id": "2dnrgIagy5-d"
      }
    },
    {
      "cell_type": "markdown",
      "source": [
        "###Extract features\n"
      ],
      "metadata": {
        "id": "yhWIE_p-y9mc"
      }
    },
    {
      "cell_type": "code",
      "source": [
        "import numpy as np\n",
        "from tensorflow.keras.applications.vgg16 import VGG16, preprocess_input\n",
        "from tensorflow.keras.preprocessing import image\n",
        "\n",
        "# Load the pre-trained VGG16 model (without top layers)\n",
        "model = VGG16(weights='imagenet', include_top=False)\n",
        "\n",
        "# Load and preprocess an image\n",
        "img_path = 'Banana-Single.jpg'\n",
        "img = image.load_img(img_path, target_size=(224, 224))\n",
        "img_array = image.img_to_array(img)\n",
        "img_array = np.expand_dims(img_array, axis=0)\n",
        "img_array = preprocess_input(img_array)\n",
        "\n",
        "# Extract features using the pre-trained VGG16 model\n",
        "features = model.predict(img_array)\n",
        "\n",
        "# Save extracted features to a file\n",
        "np.save('features.npy', features)\n"
      ],
      "metadata": {
        "colab": {
          "base_uri": "https://localhost:8080/"
        },
        "id": "z-4VRKPczA2m",
        "outputId": "7c031ba4-e59c-4ee2-b343-7dc9ff761379"
      },
      "execution_count": null,
      "outputs": [
        {
          "output_type": "stream",
          "name": "stdout",
          "text": [
            "1/1 [==============================] - 1s 699ms/step\n"
          ]
        }
      ]
    },
    {
      "cell_type": "code",
      "source": [
        "import tensorflow as tf\n",
        "import keras"
      ],
      "metadata": {
        "id": "FrEjAhU6zGNn"
      },
      "execution_count": null,
      "outputs": []
    },
    {
      "cell_type": "code",
      "source": [
        "tf.__version__"
      ],
      "metadata": {
        "colab": {
          "base_uri": "https://localhost:8080/",
          "height": 35
        },
        "id": "175neIxM0KpW",
        "outputId": "aa499b78-d6ee-43bc-de71-d89293f239a9"
      },
      "execution_count": null,
      "outputs": [
        {
          "output_type": "execute_result",
          "data": {
            "text/plain": [
              "'2.14.0'"
            ],
            "application/vnd.google.colaboratory.intrinsic+json": {
              "type": "string"
            }
          },
          "metadata": {},
          "execution_count": 2
        }
      ]
    },
    {
      "cell_type": "code",
      "source": [
        "keras.__version__"
      ],
      "metadata": {
        "colab": {
          "base_uri": "https://localhost:8080/",
          "height": 35
        },
        "id": "SsTkeVMP0MCo",
        "outputId": "91635c26-eafe-4bb0-b797-2aaa137ac550"
      },
      "execution_count": null,
      "outputs": [
        {
          "output_type": "execute_result",
          "data": {
            "text/plain": [
              "'2.14.0'"
            ],
            "application/vnd.google.colaboratory.intrinsic+json": {
              "type": "string"
            }
          },
          "metadata": {},
          "execution_count": 3
        }
      ]
    },
    {
      "cell_type": "code",
      "source": [],
      "metadata": {
        "id": "LMSb0LsQ0Nly"
      },
      "execution_count": null,
      "outputs": []
    }
  ]
}